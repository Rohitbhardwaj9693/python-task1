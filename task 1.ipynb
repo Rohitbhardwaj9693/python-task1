{
 "cells": [
  {
   "cell_type": "code",
   "execution_count": 7,
   "id": "f75fb6ec-2812-4f09-b882-a747cf2ef711",
   "metadata": {},
   "outputs": [],
   "source": [
    "list1 =[1,2,3,4,[44,55,66,True],False,(34,56,78,89,34),{1,2,3,3,2,1},{1:34,\"key2\":[55,67,78,89],4:(45,22,61,34)},[56,'data science'],'machine learning']"
   ]
  },
  {
   "cell_type": "code",
   "execution_count": 8,
   "id": "0c57b659-1678-4f43-8677-1aa3e4156675",
   "metadata": {},
   "outputs": [
    {
     "data": {
      "text/plain": [
       "[1,\n",
       " 2,\n",
       " 3,\n",
       " 4,\n",
       " [44, 55, 66, True],\n",
       " False,\n",
       " (34, 56, 78, 89, 34),\n",
       " {1, 2, 3},\n",
       " {1: 34, 'key2': [55, 67, 78, 89], 4: (45, 22, 61, 34)},\n",
       " [56, 'data science'],\n",
       " 'machine learning']"
      ]
     },
     "execution_count": 8,
     "metadata": {},
     "output_type": "execute_result"
    }
   ],
   "source": [
    "list1"
   ]
  },
  {
   "cell_type": "code",
   "execution_count": 11,
   "id": "09e3ef76-ff70-4633-bc10-ec311a7bb1f8",
   "metadata": {},
   "outputs": [],
   "source": [
    "def test(a):\n",
    "    list1=[]\n",
    "    for i in a:\n",
    "        if type(i) == list or type(i) == tuple or type(i) == set or type(i) == dict:\n",
    "            \n",
    "            for j in i:\n",
    "                if type(j) == int or type(j) == float:\n",
    "                    list1.append(j)\n",
    "                    \n",
    "                elif type(j) == dict:\n",
    "                    \n",
    "                    for k,v in j.items():\n",
    "                        if type(v) == int or type(v) == float:\n",
    "                            list1.append(v)\n",
    "                            \n",
    "                \n",
    "                    for k in j:\n",
    "                        if type(k) == int or type(k) == float:\n",
    "                            \n",
    "                            list1.append(k)\n",
    "                         \n",
    "        else :\n",
    "            if type(i) == int or type(i) == float:\n",
    "                list1.append(i)\n",
    "    return list1           "
   ]
  },
  {
   "cell_type": "code",
   "execution_count": 12,
   "id": "521a4ced-3ffa-4f8c-990a-58be88939dca",
   "metadata": {},
   "outputs": [
    {
     "data": {
      "text/plain": [
       "[1, 2, 3, 4, 44, 55, 66, 34, 56, 78, 89, 34, 1, 2, 3, 1, 4, 56]"
      ]
     },
     "execution_count": 12,
     "metadata": {},
     "output_type": "execute_result"
    }
   ],
   "source": [
    "test(list1)"
   ]
  },
  {
   "cell_type": "code",
   "execution_count": null,
   "id": "8b4aa5b2-cb0c-413f-a441-208fcf6b9b31",
   "metadata": {},
   "outputs": [],
   "source": []
  },
  {
   "cell_type": "code",
   "execution_count": null,
   "id": "e07e85ac-4d0e-47a9-a11a-8c5213ff93c3",
   "metadata": {},
   "outputs": [],
   "source": []
  },
  {
   "cell_type": "code",
   "execution_count": 16,
   "id": "0f69b33b-34a8-40bb-a772-48e287737774",
   "metadata": {},
   "outputs": [],
   "source": [
    "list =[1,2,3,4,[44,55,66,True],False,(34,56,78,89,34),{1,2,3,3,2,1},{1:34,\"key2\":[55,67,78,89],4:(45,22,61,34)},[56,'data science'],'machine learning']"
   ]
  },
  {
   "cell_type": "code",
   "execution_count": 17,
   "id": "1aa612d7-8086-475b-b50f-3e11a0850bd5",
   "metadata": {},
   "outputs": [
    {
     "data": {
      "text/plain": [
       "[1,\n",
       " 2,\n",
       " 3,\n",
       " 4,\n",
       " [44, 55, 66, True],\n",
       " False,\n",
       " (34, 56, 78, 89, 34),\n",
       " {1, 2, 3},\n",
       " {1: 34, 'key2': [55, 67, 78, 89], 4: (45, 22, 61, 34)},\n",
       " [56, 'data science'],\n",
       " 'machine learning']"
      ]
     },
     "execution_count": 17,
     "metadata": {},
     "output_type": "execute_result"
    }
   ],
   "source": [
    "list"
   ]
  },
  {
   "cell_type": "code",
   "execution_count": 6,
   "id": "afc6ab63-b473-4618-8101-4ce1ab483eda",
   "metadata": {},
   "outputs": [],
   "source": [
    "def test(a):\n",
    "    list =[]\n",
    "    for i in a:\n",
    "        if type(i) == list:\n",
    "            for j in i:\n",
    "                if type(j) == int:\n",
    "                    list.append(j)\n",
    "                \n",
    "        elif type(i) == tuple:\n",
    "            for k in i:\n",
    "                if type(k) == int:\n",
    "                    list.append(k)\n",
    "            \n",
    "        elif type(i)== set:\n",
    "            for l in i:\n",
    "                if type(l) == int:\n",
    "                    list.append(l)\n",
    "                    \n",
    "        elif type(i) == dict:\n",
    "            for key,value in i.items():\n",
    "                if type(key) == int or type(value) == int:\n",
    "                    if type(value) == tuple:\n",
    "                        for n in value:\n",
    "                            if type(n) == int:\n",
    "                                list.append(n)\n",
    "                            \n",
    "                    if type(key) == str:\n",
    "                        if type() == list:\n",
    "                            for o in key:\n",
    "                                if type(o) == int:\n",
    "                                    list.append(o)\n",
    "                                    \n",
    "                    list.append(key)\n",
    "                    \n",
    "                    list.append(value)\n",
    "                    \n",
    "        else :\n",
    "            if type(i) == int:\n",
    "                list.append(i)\n",
    "            \n",
    "    return list \n",
    "# product = list(reduce(lambda x,y : x*y,list))\n",
    "# print(list)"
   ]
  },
  {
   "cell_type": "code",
   "execution_count": 10,
   "id": "1e1afc24-3e60-44cc-9e44-2ce35c2a9209",
   "metadata": {},
   "outputs": [
    {
     "data": {
      "text/plain": [
       "2"
      ]
     },
     "execution_count": 10,
     "metadata": {},
     "output_type": "execute_result"
    }
   ],
   "source": [
    "1`+1"
   ]
  },
  {
   "cell_type": "code",
   "execution_count": null,
   "id": "162cd9c7-455c-462a-8308-a5705173fd11",
   "metadata": {},
   "outputs": [],
   "source": []
  },
  {
   "cell_type": "code",
   "execution_count": 19,
   "id": "4991778f-7784-4eb3-bb11-9f05450d5366",
   "metadata": {},
   "outputs": [],
   "source": [
    "input_sentence = 'I want to become a data scientist'\n",
    "\n",
    "def encrypt_message(message):\n",
    "    message = message.lower()\n",
    "    encrypted = \"\"\n",
    "    for char in message:\n",
    "        if char.isalpha():\n",
    "            encrypted += chr(219 - ord(char))\n",
    "        elif char == \" \":\n",
    "            encrypted += '$'\n",
    "        else :\n",
    "             encrypted += char\n",
    "    return encrypted           \n",
    "                "
   ]
  },
  {
   "cell_type": "code",
   "execution_count": 20,
   "id": "182242bf-0512-494f-ae9f-5a62c1864bca",
   "metadata": {},
   "outputs": [],
   "source": [
    "enumerate_sentence = encrypt_message(input_sentence)"
   ]
  },
  {
   "cell_type": "code",
   "execution_count": 21,
   "id": "a6219eb9-6af6-4397-902f-cfde66908a28",
   "metadata": {},
   "outputs": [
    {
     "name": "stdout",
     "output_type": "stream",
     "text": [
      "r$dzmg$gl$yvxlnv$z$wzgz$hxrvmgrhg\n"
     ]
    }
   ],
   "source": [
    "print(enumerate_sentence)"
   ]
  },
  {
   "cell_type": "code",
   "execution_count": null,
   "id": "fe902006-d350-4b71-8c3a-8324cd8b135d",
   "metadata": {},
   "outputs": [],
   "source": []
  }
 ],
 "metadata": {
  "kernelspec": {
   "display_name": "Python 3 (ipykernel)",
   "language": "python",
   "name": "python3"
  },
  "language_info": {
   "codemirror_mode": {
    "name": "ipython",
    "version": 3
   },
   "file_extension": ".py",
   "mimetype": "text/x-python",
   "name": "python",
   "nbconvert_exporter": "python",
   "pygments_lexer": "ipython3",
   "version": "3.10.8"
  }
 },
 "nbformat": 4,
 "nbformat_minor": 5
}
